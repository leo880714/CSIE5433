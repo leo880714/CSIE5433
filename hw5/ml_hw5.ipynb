{
 "cells": [
  {
   "cell_type": "code",
   "execution_count": 1,
   "metadata": {},
   "outputs": [
    {
     "name": "stdout",
     "output_type": "stream",
     "text": [
      "[(10.0,), (10.0,), (10.0,), (10.0,), (5.585133385108027,), (10.0,), (8.247467978624796,), (10.0,), (10.0,), (10.0,), (10.0,), (10.0,), (10.0,), (10.0,), (10.0,), (10.0,), (10.0,), (10.0,), (10.0,), (10.0,), (10.0,), (10.0,), (10.0,), (10.0,), (3.150529943391818,), (1.0353048210570612,), (0.731428505963137,), (10.0,), (10.0,), (10.0,), (10.0,), (10.0,), (10.0,), (10.0,), (10.0,), (10.0,), (10.0,), (10.0,), (10.0,), (10.0,), (1.1114292879850254,), (10.0,), (10.0,), (10.0,), (0.1506422132304352,), (10.0,), (10.0,), (5.224648359883298,), (7.691748414048763,), (10.0,), (10.0,), (10.0,), (10.0,), (10.0,), (10.0,), (10.0,), (10.0,), (10.0,), (10.0,), (10.0,), (3.676987656402454,), (10.0,), (10.0,), (10.0,), (10.0,), (10.0,), (10.0,), (10.0,), (10.0,), (10.0,), (10.0,), (10.0,), (10.0,), (10.0,), (10.0,), (10.0,), (10.0,), (10.0,), (10.0,), (10.0,), (10.0,), (10.0,), (4.35367468437606,), (10.0,), (10.0,), (10.0,), (10.0,), (10.0,), (10.0,), (10.0,), (10.0,), (10.0,), (10.0,), (10.0,), (10.0,), (10.0,), (10.0,), (10.0,), (10.0,), (10.0,), (10.0,), (10.0,), (10.0,), (10.0,), (10.0,), (10.0,), (10.0,), (10.0,), (10.0,), (10.0,), (10.0,), (10.0,), (10.0,), (10.0,), (10.0,), (10.0,), (10.0,), (10.0,), (10.0,), (10.0,), (10.0,), (10.0,), (10.0,), (10.0,), (10.0,), (10.0,), (10.0,), (10.0,), (10.0,), (10.0,), (10.0,), (10.0,), (10.0,), (10.0,), (10.0,), (10.0,), (10.0,), (10.0,), (10.0,), (10.0,), (10.0,), (10.0,), (10.0,), (10.0,), (10.0,), (10.0,), (10.0,), (10.0,), (10.0,), (10.0,), (10.0,), (10.0,), (10.0,), (10.0,), (10.0,), (10.0,), (10.0,), (10.0,), (10.0,), (10.0,), (10.0,), (10.0,), (10.0,), (10.0,), (10.0,), (10.0,), (10.0,), (10.0,), (10.0,), (10.0,), (10.0,), (10.0,), (10.0,), (10.0,), (10.0,), (10.0,), (10.0,), (10.0,), (10.0,), (10.0,), (10.0,), (10.0,), (10.0,), (10.0,), (10.0,), (10.0,), (10.0,), (10.0,), (10.0,), (3.158481957440149,), (10.0,), (7.845531208862422,), (10.0,), (10.0,), (10.0,), (10.0,), (10.0,), (10.0,), (10.0,), (10.0,), (10.0,), (9.216607924512099,), (4.539176589473899,), (10.0,), (10.0,), (10.0,), (10.0,), (10.0,), (10.0,), (7.9657223488433795,), (10.0,), (10.0,), (10.0,), (10.0,), (10.0,), (10.0,), (10.0,), (9.19571994965602,), (10.0,), (10.0,), (10.0,), (10.0,), (10.0,), (10.0,), (10.0,), (10.0,), (4.438696852193901,), (10.0,), (10.0,), (10.0,), (10.0,), (10.0,), (10.0,), (10.0,), (10.0,), (10.0,), (10.0,), (10.0,), (10.0,), (10.0,), (10.0,), (3.0137350105770317,), (10.0,), (10.0,), (10.0,), (10.0,), (10.0,), (10.0,), (10.0,), (10.0,), (10.0,), (-10.0,), (-10.0,), (-10.0,), (-10.0,), (-10.0,), (-10.0,), (-10.0,), (-10.0,), (-10.0,), (-10.0,), (-10.0,), (-10.0,), (-10.0,), (-6.995038999758213,), (-10.0,), (-10.0,), (-10.0,), (-10.0,), (-10.0,), (-10.0,), (-10.0,), (-10.0,), (-10.0,), (-4.449943881910442,), (-10.0,), (-10.0,), (-10.0,), (-10.0,), (-10.0,), (-10.0,), (-10.0,), (-10.0,), (-10.0,), (-10.0,), (-10.0,), (-10.0,), (-10.0,), (-10.0,), (-10.0,), (-10.0,), (-10.0,), (-10.0,), (-10.0,), (-10.0,), (-10.0,), (-10.0,), (-10.0,), (-10.0,), (-10.0,), (-10.0,), (-10.0,), (-10.0,), (-10.0,), (-10.0,), (-10.0,), (-10.0,), (-10.0,), (-10.0,), (-10.0,), (-10.0,), (-10.0,), (-10.0,), (-10.0,), (-10.0,), (-10.0,), (-10.0,), (-10.0,), (-10.0,), (-10.0,), (-10.0,), (-10.0,), (-10.0,), (-10.0,), (-10.0,), (-10.0,), (-10.0,), (-10.0,), (-10.0,), (-10.0,), (-10.0,), (-10.0,), (-10.0,), (-10.0,), (-10.0,), (-10.0,), (-10.0,), (-10.0,), (-10.0,), (-10.0,), (-10.0,), (-10.0,), (-10.0,), (-10.0,), (-10.0,), (-10.0,), (-10.0,), (-10.0,), (-10.0,), (-10.0,), (-10.0,), (-9.239431653530215,), (-10.0,), (-10.0,), (-10.0,), (-10.0,), (-10.0,), (-10.0,), (-10.0,), (-10.0,), (-10.0,), (-10.0,), (-10.0,), (-10.0,), (-10.0,), (-10.0,), (-10.0,), (-10.0,), (-10.0,), (-10.0,), (-10.0,), (-10.0,), (-10.0,), (-10.0,), (-6.664577266849786,), (-10.0,), (-10.0,), (-10.0,), (-10.0,), (-10.0,), (-10.0,), (-10.0,), (-10.0,), (-10.0,), (-10.0,), (-10.0,), (-10.0,), (-10.0,), (-10.0,), (-10.0,), (-10.0,), (-10.0,), (-10.0,), (-10.0,), (-10.0,), (-10.0,), (-10.0,), (-10.0,), (-10.0,), (-10.0,), (-7.469561140871878,), (-1.6137673669399504,), (-10.0,), (-10.0,), (-10.0,), (-10.0,), (-1.8898269874774025,), (-10.0,), (-10.0,), (-10.0,), (-10.0,), (-10.0,), (-10.0,), (-10.0,), (-10.0,), (-10.0,), (-10.0,), (-10.0,), (-10.0,), (-10.0,), (-10.0,), (-10.0,), (-10.0,), (-10.0,), (-10.0,), (-10.0,), (-2.5989975639307965,), (-10.0,), (-10.0,), (-10.0,), (-10.0,), (-10.0,), (-10.0,), (-10.0,), (-10.0,), (-10.0,), (-10.0,), (-10.0,), (-10.0,), (-10.0,), (-10.0,), (-10.0,), (-10.0,), (-10.0,), (-10.0,), (-10.0,), (-10.0,), (-10.0,), (-10.0,), (-10.0,), (-10.0,), (-10.0,), (-10.0,), (-3.7320627985232773,), (-2.8346711279722614,), (-10.0,), (-10.0,), (-10.0,), (-10.0,), (-10.0,), (-10.0,), (-10.0,), (-10.0,), (-10.0,), (-10.0,), (-10.0,), (-10.0,), (-10.0,), (-10.0,), (-10.0,), (-10.0,), (-10.0,), (-10.0,), (-10.0,), (-10.0,), (-10.0,), (-10.0,), (-10.0,), (-8.063006124442843,), (-10.0,), (-10.0,), (-10.0,), (-10.0,), (-10.0,), (-10.0,), (-6.553651619395853,), (-8.216710894103711,), (-10.0,), (-10.0,), (-10.0,), (-10.0,), (-10.0,), (-0.011419665923117906,), (-10.0,), (-10.0,), (-10.0,), (-10.0,), (-10.0,), (-10.0,)]\n",
      "8.459972213043251\n"
     ]
    }
   ],
   "source": [
    "## prob 15\n",
    "import numpy as np\n",
    "import pandas as pd \n",
    "import math\n",
    "import scipy\n",
    "import sys\n",
    "\n",
    "# add the path of liblinear package\n",
    "LIB_LINSVM_PATH = \"./libsvm-master/python\"\n",
    "sys.path.append(LIB_LINSVM_PATH)\n",
    "from svm import *\n",
    "from svmutil import *\n",
    "\n",
    "#main\n",
    "train_y, train_x = svm_read_problem('./satimage.shape', return_scipy = True)\n",
    "train_y = train_y == 3\n",
    "\n",
    "m = svm_train(train_y, train_x, '-s 0 -t 0 -c 10')\n",
    "\n",
    "support_vector_coefficients = m.get_sv_coef()\n",
    "support_vector_coefficients = np.squeeze(support_vector_coefficients)\n",
    "support_vectors = m.get_SV()\n",
    "w = np.zeros(train_x.shape[1])\n",
    "sv = pd.DataFrame(support_vectors, index=np.arange(len(support_vectors))).sort_index(axis=1).fillna(0).to_numpy()\n",
    "\n",
    "for i in range(len(support_vectors)):\n",
    "    w += support_vector_coefficients[i] * sv[i]\n",
    "\n",
    "print(np.linalg.norm(w))"
   ]
  },
  {
   "cell_type": "code",
   "execution_count": 4,
   "metadata": {},
   "outputs": [
    {
     "name": "stdout",
     "output_type": "stream",
     "text": [
      "1 versus not 1\n",
      "Accuracy = 99.9324% (4432/4435) (classification)\n",
      "2 versus not 2\n",
      "Accuracy = 100% (4435/4435) (classification)\n",
      "3 versus not 3\n",
      "Accuracy = 97.7678% (4336/4435) (classification)\n",
      "4 versus not 4\n",
      "Accuracy = 95.9865% (4257/4435) (classification)\n",
      "5 versus not 5\n",
      "Accuracy = 99.3236% (4405/4435) (classification)\n"
     ]
    }
   ],
   "source": [
    "## problem 16\n",
    "import numpy as np\n",
    "import pandas as pd \n",
    "import math\n",
    "import scipy\n",
    "import sys\n",
    "\n",
    "# add the path of liblinear package\n",
    "LIB_LINSVM_PATH = \"./libsvm-master/python\"\n",
    "sys.path.append(LIB_LINSVM_PATH)\n",
    "from svm import *\n",
    "from svmutil import *\n",
    "\n",
    "#main\n",
    "train_y, train_x = svm_read_problem('./satimage.shape', return_scipy = True)\n",
    "\n",
    "for i in range(5):\n",
    "    print(str(i+1) +' versus not ' + str(i+1))\n",
    "    train_y_target = train_y == i+1\n",
    "    m = svm_train(train_y_target, train_x, '-s 0 -t 1 -g 1 -r 1 -d 2 -c 10')\n",
    "    p_label, p_acc, p_val = svm_predict(train_y_target, train_x, m)\n"
   ]
  },
  {
   "cell_type": "code",
   "execution_count": 3,
   "metadata": {},
   "outputs": [
    {
     "name": "stdout",
     "output_type": "stream",
     "text": [
      "1 versus not 1\n",
      "145\n",
      "2 versus not 2\n",
      "87\n",
      "3 versus not 3\n",
      "433\n",
      "4 versus not 4\n",
      "711\n",
      "5 versus not 5\n",
      "258\n"
     ]
    }
   ],
   "source": [
    "##problem 17\n",
    "import numpy as np\n",
    "import pandas as pd \n",
    "import math\n",
    "import scipy\n",
    "import sys\n",
    "\n",
    "# add the path of liblinear package\n",
    "LIB_LINSVM_PATH = \"./libsvm-master/python\"\n",
    "sys.path.append(LIB_LINSVM_PATH)\n",
    "from svm import *\n",
    "from svmutil import *\n",
    "\n",
    "#main\n",
    "train_y, train_x = svm_read_problem('./satimage.shape', return_scipy = True)\n",
    "\n",
    "for i in range(5):\n",
    "    print(str(i+1) +' versus not ' + str(i+1))\n",
    "    train_y_target = train_y == i+1\n",
    "    m = svm_train(train_y_target, train_x, '-s 0 -t 1 -g 1 -r 1 -d 2 -c 10')\n",
    "    print(len(m.get_SV()))\n",
    "    #p_label, p_acc, p_val = svm_predict(train_y_target, train_x, m)\n",
    "    "
   ]
  },
  {
   "cell_type": "code",
   "execution_count": 9,
   "metadata": {},
   "outputs": [
    {
     "name": "stdout",
     "output_type": "stream",
     "text": [
      "C = 0.01\n",
      "Accuracy = 76.5% (1530/2000) (classification)\n",
      "C = 0.1\n",
      "Accuracy = 83.65% (1673/2000) (classification)\n",
      "C = 1\n",
      "Accuracy = 89.35% (1787/2000) (classification)\n",
      "C = 10\n",
      "Accuracy = 90.3% (1806/2000) (classification)\n",
      "C = 100\n",
      "Accuracy = 90.3% (1806/2000) (classification)\n"
     ]
    }
   ],
   "source": [
    "## problem 18\n",
    "import numpy as np\n",
    "import pandas as pd \n",
    "import math\n",
    "import scipy\n",
    "import sys\n",
    "\n",
    "# add the path of liblinear package\n",
    "LIB_LINSVM_PATH = \"./libsvm-master/python\"\n",
    "sys.path.append(LIB_LINSVM_PATH)\n",
    "from svm import *\n",
    "from svmutil import *\n",
    "\n",
    "#main\n",
    "train_y, train_x = svm_read_problem('./satimage.shape', return_scipy = True)\n",
    "test_y, test_x = svm_read_problem('./satimage.scale.t', return_scipy = True)\n",
    "\n",
    "C = [0.01, 0.1, 1, 10, 100]\n",
    "for i in range(5):\n",
    "    print('C = ' + str(C[i]))\n",
    "    train_y_target = train_y == 6\n",
    "    test_y_target = test_y == 6\n",
    "    m = svm_train(train_y_target, train_x, '-s 0 -t 2 -g 10 -c ' + str(C[i]))\n",
    "    p_label, p_acc, p_val = svm_predict(test_y_target, test_x, m)\n",
    "    "
   ]
  },
  {
   "cell_type": "code",
   "execution_count": 10,
   "metadata": {},
   "outputs": [
    {
     "name": "stdout",
     "output_type": "stream",
     "text": [
      "\\gamma = 0.1\n",
      "Accuracy = 90.15% (1803/2000) (classification)\n",
      "\\gamma = 1\n",
      "Accuracy = 93% (1860/2000) (classification)\n",
      "\\gamma = 10\n",
      "Accuracy = 83.65% (1673/2000) (classification)\n",
      "\\gamma = 100\n",
      "Accuracy = 76.5% (1530/2000) (classification)\n",
      "\\gamma = 1000\n",
      "Accuracy = 76.5% (1530/2000) (classification)\n"
     ]
    }
   ],
   "source": [
    "## problem 19\n",
    "import numpy as np\n",
    "import pandas as pd \n",
    "import math\n",
    "import scipy\n",
    "import sys\n",
    "\n",
    "# add the path of liblinear package\n",
    "LIB_LINSVM_PATH = \"./libsvm-master/python\"\n",
    "sys.path.append(LIB_LINSVM_PATH)\n",
    "from svm import *\n",
    "from svmutil import *\n",
    "\n",
    "#main\n",
    "train_y, train_x = svm_read_problem('./satimage.shape', return_scipy = True)\n",
    "test_y, test_x = svm_read_problem('./satimage.scale.t', return_scipy = True)\n",
    "\n",
    "r = [0.1, 1, 10, 100, 1000]\n",
    "for i in range(5):\n",
    "    print('\\gamma = ' + str(r[i]))\n",
    "    train_y_target = train_y == 6\n",
    "    test_y_target = test_y == 6\n",
    "    m = svm_train(train_y_target, train_x, '-s 0 -t 2 -g ' + str(r[i]) + ' -c 0.1')\n",
    "    p_label, p_acc, p_val = svm_predict(test_y_target, test_x, m)\n",
    "    "
   ]
  },
  {
   "cell_type": "code",
   "execution_count": 284,
   "metadata": {},
   "outputs": [
    {
     "name": "stdout",
     "output_type": "stream",
     "text": [
      "0\n",
      "Accuracy = 90% (180/200) (classification)\n",
      "Accuracy = 93% (186/200) (classification)\n",
      "Accuracy = 83% (166/200) (classification)\n",
      "Accuracy = 77% (154/200) (classification)\n",
      "Accuracy = 77% (154/200) (classification)\n",
      "1\n",
      "Accuracy = 94.5% (189/200) (classification)\n",
      "Accuracy = 95% (190/200) (classification)\n",
      "Accuracy = 88% (176/200) (classification)\n",
      "Accuracy = 81% (162/200) (classification)\n",
      "Accuracy = 81% (162/200) (classification)\n",
      "2\n",
      "Accuracy = 95% (190/200) (classification)\n",
      "Accuracy = 95.5% (191/200) (classification)\n",
      "Accuracy = 85.5% (171/200) (classification)\n",
      "Accuracy = 79.5% (159/200) (classification)\n",
      "Accuracy = 79.5% (159/200) (classification)\n",
      "3\n",
      "Accuracy = 94.5% (189/200) (classification)\n",
      "Accuracy = 94.5% (189/200) (classification)\n",
      "Accuracy = 82.5% (165/200) (classification)\n",
      "Accuracy = 71.5% (143/200) (classification)\n",
      "Accuracy = 71.5% (143/200) (classification)\n",
      "4\n",
      "Accuracy = 92% (184/200) (classification)\n",
      "Accuracy = 95% (190/200) (classification)\n",
      "Accuracy = 86.5% (173/200) (classification)\n",
      "Accuracy = 79.5% (159/200) (classification)\n",
      "Accuracy = 79.5% (159/200) (classification)\n",
      "most number of idx:  1\n"
     ]
    },
    {
     "data": {
      "image/png": "[encoded data removed]",
      "text/plain": [
       "<Figure size 432x288 with 1 Axes>"
      ]
     },
     "metadata": {
      "needs_background": "light"
     },
     "output_type": "display_data"
    }
   ],
   "source": [
    "## problem20\n",
    "import numpy as np\n",
    "import pandas as pd \n",
    "import math\n",
    "import matplotlib.pyplot as plt\n",
    "import random\n",
    "import scipy\n",
    "import sys\n",
    "\n",
    "# add the path of liblinear package\n",
    "LIB_LINSVM_PATH = \"./libsvm-master/python\"\n",
    "sys.path.append(LIB_LINSVM_PATH)\n",
    "from svm import *\n",
    "from svmutil import *\n",
    "\n",
    "#main\n",
    "train_y, train_x = svm_read_problem('./satimage.shape', return_scipy = True)\n",
    "test_y, test_x = svm_read_problem('./satimage.scale.t', return_scipy = True)\n",
    "\n",
    "x = np.zeros((train_y.shape[0], 36))\n",
    "for i in range(train_y.shape[0]):\n",
    "    for j in range(36):\n",
    "        if train_x[i, j] == None:\n",
    "            x[i][j] = 0\n",
    "        else:\n",
    "            x[i][j] = train_x[i, j]\n",
    "\n",
    "train_target_y = train_y == 6\n",
    "train_target_y = train_target_y.reshape(-1,1)\n",
    "data = np.append(train_target_y, x, axis = 1)\n",
    "\n",
    "r = [0.1, 1, 10, 100, 1000]\n",
    "\n",
    "result = []\n",
    "for i in range(10):\n",
    "    print(i)\n",
    "    np.random.shuffle(data)\n",
    "    \n",
    "    train_y = data[:, 0]\n",
    "    train_x = data[:, 1: ]\n",
    "    \n",
    "    val_y = train_y[:200]\n",
    "    val_x = train_x[:200, :]\n",
    "    train_minus_y = train_y[200: ]\n",
    "    train_minus_x = train_x[200:, :]\n",
    "    \n",
    "    best_acc = 0\n",
    "    best_idx = 0\n",
    "    for j in range(5):\n",
    "        m = svm_train(train_minus_y, train_minus_x, '-s 0 -t 2 -g ' + str(r[j]) + ' -c 0.1')\n",
    "        p_label, p_acc, p_val = svm_predict(val_y, val_x, m)\n",
    "\n",
    "        if(p_acc[0] > best_acc):\n",
    "            best_acc = p_acc[0]\n",
    "            best_idx = j\n",
    "    \n",
    "    result.append(best_idx)\n",
    "\n",
    "plt.hist(result)\n",
    "print(\"most number of idx: \", np.bincount(result).argmax())\n"
   ]
  },
  {
   "cell_type": "code",
   "execution_count": 283,
   "metadata": {},
   "outputs": [
    {
     "name": "stdout",
     "output_type": "stream",
     "text": [
      "[Progress]:[████████████████████]100.00%;"
     ]
    }
   ],
   "source": [
    "from time import sleep\n",
    "\n",
    "temp = 0\n",
    "total = 1000\n",
    "\n",
    "for n in range(1000):\n",
    "    temp += 1\n",
    "    print('\\r' + '[Progress]:[%s%s]%.2f%%;' % (\n",
    "    '█' * int(temp*20/total), ' ' * (20-int(temp*20/total)),\n",
    "    float(temp/total*100)), end='')\n",
    "    sleep(0.001)"
   ]
  },
  {
   "cell_type": "code",
   "execution_count": 275,
   "metadata": {},
   "outputs": [
    {
     "name": "stdout",
     "output_type": "stream",
     "text": [
      "[[7. 8.]\n",
      " [3. 4.]\n",
      " [5. 6.]\n",
      " [1. 2.]]\n"
     ]
    }
   ],
   "source": [
    "import numpy as np\n",
    "import random\n",
    "a = np.array([[1, 2], [3, 4], [5,6], [7,8]], dtype = float)\n",
    "#random.seed(10)\n",
    "np.random.shuffle(a)\n",
    "print(a)"
   ]
  },
  {
   "cell_type": "code",
   "execution_count": null,
   "metadata": {},
   "outputs": [],
   "source": []
  },
  {
   "cell_type": "code",
   "execution_count": null,
   "metadata": {},
   "outputs": [],
   "source": []
  }
 ],
 "metadata": {
  "kernelspec": {
   "display_name": "Python 3",
   "language": "python",
   "name": "python3"
  },
  "language_info": {
   "codemirror_mode": {
    "name": "ipython",
    "version": 3
   },
   "file_extension": ".py",
   "mimetype": "text/x-python",
   "name": "python",
   "nbconvert_exporter": "python",
   "pygments_lexer": "ipython3",
   "version": "3.7.4"
  }
 },
 "nbformat": 4,
 "nbformat_minor": 4
}
