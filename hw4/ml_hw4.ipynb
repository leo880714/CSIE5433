{
 "cells": [
  {
   "cell_type": "code",
   "execution_count": 1,
   "metadata": {},
   "outputs": [
    {
     "ename": "Exception",
     "evalue": "LIBLINEAR library not found.",
     "output_type": "error",
     "traceback": [
      "\u001b[0;31m---------------------------------------------------------------------------\u001b[0m",
      "\u001b[0;31mOSError\u001b[0m                                   Traceback (most recent call last)",
      "\u001b[0;32m~/Desktop/hello/ML/hw4/liblinear-2.42/python/liblinear.py\u001b[0m in \u001b[0;36m<module>\u001b[0;34m\u001b[0m\n\u001b[1;32m     30\u001b[0m         \u001b[0;32melse\u001b[0m\u001b[0;34m:\u001b[0m\u001b[0;34m\u001b[0m\u001b[0;34m\u001b[0m\u001b[0m\n\u001b[0;32m---> 31\u001b[0;31m                 \u001b[0mliblinear\u001b[0m \u001b[0;34m=\u001b[0m \u001b[0mCDLL\u001b[0m\u001b[0;34m(\u001b[0m\u001b[0mpath\u001b[0m\u001b[0;34m.\u001b[0m\u001b[0mjoin\u001b[0m\u001b[0;34m(\u001b[0m\u001b[0mdirname\u001b[0m\u001b[0;34m,\u001b[0m \u001b[0;34m'../liblinear.so.4'\u001b[0m\u001b[0;34m)\u001b[0m\u001b[0;34m)\u001b[0m\u001b[0;34m\u001b[0m\u001b[0;34m\u001b[0m\u001b[0m\n\u001b[0m\u001b[1;32m     32\u001b[0m \u001b[0;32mexcept\u001b[0m\u001b[0;34m:\u001b[0m\u001b[0;34m\u001b[0m\u001b[0;34m\u001b[0m\u001b[0m\n",
      "\u001b[0;32m~/opt/anaconda3/lib/python3.7/ctypes/__init__.py\u001b[0m in \u001b[0;36m__init__\u001b[0;34m(self, name, mode, handle, use_errno, use_last_error)\u001b[0m\n\u001b[1;32m    363\u001b[0m         \u001b[0;32mif\u001b[0m \u001b[0mhandle\u001b[0m \u001b[0;32mis\u001b[0m \u001b[0;32mNone\u001b[0m\u001b[0;34m:\u001b[0m\u001b[0;34m\u001b[0m\u001b[0;34m\u001b[0m\u001b[0m\n\u001b[0;32m--> 364\u001b[0;31m             \u001b[0mself\u001b[0m\u001b[0;34m.\u001b[0m\u001b[0m_handle\u001b[0m \u001b[0;34m=\u001b[0m \u001b[0m_dlopen\u001b[0m\u001b[0;34m(\u001b[0m\u001b[0mself\u001b[0m\u001b[0;34m.\u001b[0m\u001b[0m_name\u001b[0m\u001b[0;34m,\u001b[0m \u001b[0mmode\u001b[0m\u001b[0;34m)\u001b[0m\u001b[0;34m\u001b[0m\u001b[0;34m\u001b[0m\u001b[0m\n\u001b[0m\u001b[1;32m    365\u001b[0m         \u001b[0;32melse\u001b[0m\u001b[0;34m:\u001b[0m\u001b[0;34m\u001b[0m\u001b[0;34m\u001b[0m\u001b[0m\n",
      "\u001b[0;31mOSError\u001b[0m: dlopen(/Users/alfa/Desktop/hello/ML/hw4/liblinear-2.42/python/../liblinear.so.4, 6): image not found",
      "\nDuring handling of the above exception, another exception occurred:\n",
      "\u001b[0;31mException\u001b[0m                                 Traceback (most recent call last)",
      "\u001b[0;32m<ipython-input-1-951a3c7d1d73>\u001b[0m in \u001b[0;36m<module>\u001b[0;34m\u001b[0m\n\u001b[1;32m      7\u001b[0m \u001b[0mLIB_LINEAR_PATH\u001b[0m \u001b[0;34m=\u001b[0m \u001b[0;34m\"./liblinear-2.42/python\"\u001b[0m\u001b[0;34m\u001b[0m\u001b[0;34m\u001b[0m\u001b[0m\n\u001b[1;32m      8\u001b[0m \u001b[0msys\u001b[0m\u001b[0;34m.\u001b[0m\u001b[0mpath\u001b[0m\u001b[0;34m.\u001b[0m\u001b[0mappend\u001b[0m\u001b[0;34m(\u001b[0m\u001b[0mLIB_LINEAR_PATH\u001b[0m\u001b[0;34m)\u001b[0m\u001b[0;34m\u001b[0m\u001b[0;34m\u001b[0m\u001b[0m\n\u001b[0;32m----> 9\u001b[0;31m \u001b[0;32mfrom\u001b[0m \u001b[0mliblinearutil\u001b[0m \u001b[0;32mimport\u001b[0m \u001b[0;34m*\u001b[0m\u001b[0;34m\u001b[0m\u001b[0;34m\u001b[0m\u001b[0m\n\u001b[0m\u001b[1;32m     10\u001b[0m \u001b[0;32mfrom\u001b[0m \u001b[0msklearn\u001b[0m\u001b[0;34m.\u001b[0m\u001b[0mpreprocessing\u001b[0m \u001b[0;32mimport\u001b[0m \u001b[0mPolynomialFeatures\u001b[0m\u001b[0;34m\u001b[0m\u001b[0;34m\u001b[0m\u001b[0m\n\u001b[1;32m     11\u001b[0m \u001b[0;34m\u001b[0m\u001b[0m\n",
      "\u001b[0;32m~/Desktop/hello/ML/hw4/liblinear-2.42/python/liblinearutil.py\u001b[0m in \u001b[0;36m<module>\u001b[0;34m\u001b[0m\n\u001b[1;32m      3\u001b[0m \u001b[0;32mimport\u001b[0m \u001b[0mos\u001b[0m\u001b[0;34m,\u001b[0m \u001b[0msys\u001b[0m\u001b[0;34m\u001b[0m\u001b[0;34m\u001b[0m\u001b[0m\n\u001b[1;32m      4\u001b[0m \u001b[0msys\u001b[0m\u001b[0;34m.\u001b[0m\u001b[0mpath\u001b[0m \u001b[0;34m=\u001b[0m \u001b[0;34m[\u001b[0m\u001b[0mos\u001b[0m\u001b[0;34m.\u001b[0m\u001b[0mpath\u001b[0m\u001b[0;34m.\u001b[0m\u001b[0mdirname\u001b[0m\u001b[0;34m(\u001b[0m\u001b[0mos\u001b[0m\u001b[0;34m.\u001b[0m\u001b[0mpath\u001b[0m\u001b[0;34m.\u001b[0m\u001b[0mabspath\u001b[0m\u001b[0;34m(\u001b[0m\u001b[0m__file__\u001b[0m\u001b[0;34m)\u001b[0m\u001b[0;34m)\u001b[0m\u001b[0;34m]\u001b[0m \u001b[0;34m+\u001b[0m \u001b[0msys\u001b[0m\u001b[0;34m.\u001b[0m\u001b[0mpath\u001b[0m\u001b[0;34m\u001b[0m\u001b[0;34m\u001b[0m\u001b[0m\n\u001b[0;32m----> 5\u001b[0;31m \u001b[0;32mfrom\u001b[0m \u001b[0mliblinear\u001b[0m \u001b[0;32mimport\u001b[0m \u001b[0;34m*\u001b[0m\u001b[0;34m\u001b[0m\u001b[0;34m\u001b[0m\u001b[0m\n\u001b[0m\u001b[1;32m      6\u001b[0m \u001b[0;32mfrom\u001b[0m \u001b[0mliblinear\u001b[0m \u001b[0;32mimport\u001b[0m \u001b[0m__all__\u001b[0m \u001b[0;32mas\u001b[0m \u001b[0mliblinear_all\u001b[0m\u001b[0;34m\u001b[0m\u001b[0;34m\u001b[0m\u001b[0m\n\u001b[1;32m      7\u001b[0m \u001b[0;32mfrom\u001b[0m \u001b[0mliblinear\u001b[0m \u001b[0;32mimport\u001b[0m \u001b[0mscipy\u001b[0m\u001b[0;34m,\u001b[0m \u001b[0msparse\u001b[0m\u001b[0;34m\u001b[0m\u001b[0;34m\u001b[0m\u001b[0m\n",
      "\u001b[0;32m~/Desktop/hello/ML/hw4/liblinear-2.42/python/liblinear.py\u001b[0m in \u001b[0;36m<module>\u001b[0;34m\u001b[0m\n\u001b[1;32m     37\u001b[0m                 \u001b[0mliblinear\u001b[0m \u001b[0;34m=\u001b[0m \u001b[0mCDLL\u001b[0m\u001b[0;34m(\u001b[0m\u001b[0mfind_library\u001b[0m\u001b[0;34m(\u001b[0m\u001b[0;34m'liblinear'\u001b[0m\u001b[0;34m)\u001b[0m\u001b[0;34m)\u001b[0m\u001b[0;34m\u001b[0m\u001b[0;34m\u001b[0m\u001b[0m\n\u001b[1;32m     38\u001b[0m         \u001b[0;32melse\u001b[0m\u001b[0;34m:\u001b[0m\u001b[0;34m\u001b[0m\u001b[0;34m\u001b[0m\u001b[0m\n\u001b[0;32m---> 39\u001b[0;31m                 \u001b[0;32mraise\u001b[0m \u001b[0mException\u001b[0m\u001b[0;34m(\u001b[0m\u001b[0;34m'LIBLINEAR library not found.'\u001b[0m\u001b[0;34m)\u001b[0m\u001b[0;34m\u001b[0m\u001b[0;34m\u001b[0m\u001b[0m\n\u001b[0m\u001b[1;32m     40\u001b[0m \u001b[0;34m\u001b[0m\u001b[0m\n\u001b[1;32m     41\u001b[0m \u001b[0mL2R_LR\u001b[0m \u001b[0;34m=\u001b[0m \u001b[0;36m0\u001b[0m\u001b[0;34m\u001b[0m\u001b[0;34m\u001b[0m\u001b[0m\n",
      "\u001b[0;31mException\u001b[0m: LIBLINEAR library not found."
     ]
    }
   ],
   "source": [
    "#for question 17\n",
    "import numpy as np\n",
    "import math\n",
    "import sys\n",
    "\n",
    "# add the path of liblinear package\n",
    "LIB_LINEAR_PATH = \"./liblinear-2.42/python\"\n",
    "sys.path.append(LIB_LINEAR_PATH)\n",
    "from liblinearutil import *\n",
    "from sklearn.preprocessing import PolynomialFeatures\n",
    "\n",
    "#main\n",
    "data_in = np.genfromtxt(\"hw4_train.dat.txt\")\n",
    "\n",
    "X = data_in[:, : -1]\n",
    "d = X.shape[1]\n",
    "y = data_in[:, -1]\n",
    "\n",
    "poly = PolynomialFeatures(2)\n",
    "X_poly = poly.fit_transform(X)\n",
    "\n",
    "acc = 0\n",
    "acc_idx = 0\n",
    "C = [1/(2*math.pow(10, -4)), 1/(2*math.pow(10, -2)), 1/(2*math.pow(10, 0)), 1/(2*math.pow(10, 2)), 1/(2*math.pow(10, 4))]\n",
    "\n",
    "for i in range(5):\n",
    "    model = train(y, X_poly, '-s 0 -c ' + str(C[i])+ ' -e 0.000001')\n",
    "    p_labs, p_acc, p_vals = predict(y, X_poly, model)\n",
    "    #print(p_labs)\n",
    "    if(p_acc[0] >= acc):\n",
    "        acc = p_acc[0]\n",
    "        acc_idx = i\n",
    "\n",
    "print(acc_idx)"
   ]
  },
  {
   "cell_type": "code",
   "execution_count": 2,
   "metadata": {},
   "outputs": [
    {
     "name": "stdout",
     "output_type": "stream",
     "text": [
      "Accuracy = 86.6667% (260/300) (classification)\n",
      "Accuracy = 87% (261/300) (classification)\n",
      "Accuracy = 80.6667% (242/300) (classification)\n",
      "Accuracy = 74.3333% (223/300) (classification)\n",
      "Accuracy = 51.6667% (155/300) (classification)\n",
      "1\n"
     ]
    }
   ],
   "source": [
    "#for question 16\n",
    "import numpy as np\n",
    "import math\n",
    "import sys\n",
    "\n",
    "# add the path of liblinear package\n",
    "LIB_LINEAR_PATH = \"./liblinear-2.42/python\"\n",
    "sys.path.append(LIB_LINEAR_PATH)\n",
    "from liblinearutil import *\n",
    "from sklearn.preprocessing import PolynomialFeatures\n",
    "\n",
    "#main\n",
    "data_in = np.genfromtxt(\"hw4_train.dat.txt\")\n",
    "\n",
    "X = data_in[:, : -1]\n",
    "d = X.shape[1]\n",
    "y = data_in[:, -1]\n",
    "\n",
    "poly = PolynomialFeatures(2)\n",
    "X_poly = poly.fit_transform(X)\n",
    "\n",
    "data_out = np.genfromtxt(\"hw4_test.dat.txt\")\n",
    "\n",
    "X_out = data_out[:, : -1]\n",
    "y_out = data_out[:, -1]\n",
    "\n",
    "X_poly_out = poly.fit_transform(X_out)\n",
    "\n",
    "C = [1/(2*math.pow(10, -4)), 1/(2*math.pow(10, -2)), 1/(2*math.pow(10, 0)), 1/(2*math.pow(10, 2)),1/(2*math.pow(10, 4))]\n",
    "acc = 0\n",
    "acc_idx = 0\n",
    "\n",
    "for i in range(5):\n",
    "    model = train(y, X_poly, '-s 0 -c ' + str(C[i]) + ' -e 0.000001')\n",
    "    p_labs, p_acc, p_vals = predict(y_out, X_poly_out, model)\n",
    "    if(p_acc[0] >= acc):\n",
    "        acc = p_acc[0]\n",
    "        acc_idx = i\n",
    "\n",
    "print(acc_idx)"
   ]
  },
  {
   "cell_type": "code",
   "execution_count": 1,
   "metadata": {},
   "outputs": [
    {
     "name": "stdout",
     "output_type": "stream",
     "text": [
      "0.1433333333333333\n"
     ]
    }
   ],
   "source": [
    "#for question 18\n",
    "import numpy as np\n",
    "import math\n",
    "import sys\n",
    "\n",
    "# add the path of liblinear package\n",
    "LIB_LINEAR_PATH = \"./liblinear-2.42/python\"\n",
    "sys.path.append(LIB_LINEAR_PATH)\n",
    "from liblinearutil import *\n",
    "from sklearn.preprocessing import PolynomialFeatures\n",
    "\n",
    "#main\n",
    "data_in = np.genfromtxt(\"hw4_train.dat.txt\")\n",
    "\n",
    "X = data_in[:, : -1]\n",
    "y = data_in[:, -1]\n",
    "\n",
    "poly = PolynomialFeatures(2)\n",
    "X_poly = poly.fit_transform(X)\n",
    "X_train = X_poly[0:120, :]\n",
    "y_train = y[0:120]\n",
    "X_val = X_poly[120:, :]\n",
    "y_val = y[120: ]\n",
    "\n",
    "acc = 0\n",
    "acc_idx = 0\n",
    "C = [1/(2*math.pow(10, -4)), 1/(2*math.pow(10, -2)), 1/(2*math.pow(10, 0)), 1/(2*math.pow(10, 2)), 1/(2*math.pow(10, 4))]\n",
    "for i in range(5):\n",
    "    model = train(y_train, X_train, '-s 0 -c ' + str(C[i])+ ' -e 0.000001')\n",
    "    p_labs, p_acc, p_vals = predict(y_val, X_val, model, '-q')\n",
    "    if(p_acc[0] >= acc):\n",
    "        acc = p_acc[0]\n",
    "        acc_idx = i\n",
    "\n",
    "#print(acc_idx) \n",
    "data_out = np.genfromtxt(\"hw4_test.dat.txt\")\n",
    "X_out = data_out[:, : -1]\n",
    "y_out = data_out[:, -1]\n",
    "X_out_poly = poly.fit_transform(X_out)\n",
    "\n",
    "model = train(y_train, X_train, '-s 0 -c ' + str(C[acc_idx]) + ' -e 0.000001')\n",
    "\n",
    "p_labs, p_acc, p_vals = predict(y_out, X_out_poly, model, '-q')\n",
    "print(1-p_acc[0]/100)"
   ]
  },
  {
   "cell_type": "code",
   "execution_count": 3,
   "metadata": {},
   "outputs": [
    {
     "name": "stdout",
     "output_type": "stream",
     "text": [
      "0.13\n"
     ]
    }
   ],
   "source": [
    "#for question 19\n",
    "import numpy as np\n",
    "import math\n",
    "import sys\n",
    "\n",
    "# add the path of liblinear package\n",
    "LIB_LINEAR_PATH = \"./liblinear-2.42/python\"\n",
    "sys.path.append(LIB_LINEAR_PATH)\n",
    "from liblinearutil import *\n",
    "from sklearn.preprocessing import PolynomialFeatures\n",
    "\n",
    "#main\n",
    "data_in = np.genfromtxt(\"hw4_train.dat.txt\")\n",
    "\n",
    "X = data_in[:, : -1]\n",
    "y = data_in[:, -1]\n",
    "\n",
    "poly = PolynomialFeatures(2)\n",
    "X_poly = poly.fit_transform(X)\n",
    "X_train = X_poly[0:120, :]\n",
    "y_train = y[0:120]\n",
    "X_val = X_poly[120:, :]\n",
    "y_val = y[120: ]\n",
    "\n",
    "C = [1/(2*math.pow(10, -4)), 1/(2*math.pow(10, -2)), 1/(2*math.pow(10, 0)), 1/(2*math.pow(10, 2)), 1/(2*math.pow(10, 4))]\n",
    "model = train(y, X_poly, '-s 0 -c ' + str(C[1])+ ' -e 0.000001')\n",
    "    \n",
    "data_out = np.genfromtxt(\"hw4_test.dat.txt\")\n",
    "X_out = data_out[:, : -1]\n",
    "y_out = data_out[:, -1]\n",
    "X_out_poly = poly.fit_transform(X_out)\n",
    "\n",
    "p_labs, p_acc, p_vals = predict(y_out, X_out_poly, model, '-q')\n",
    "print(1-p_acc[0]/100)"
   ]
  },
  {
   "cell_type": "code",
   "execution_count": 4,
   "metadata": {},
   "outputs": [
    {
     "name": "stdout",
     "output_type": "stream",
     "text": [
      "0.12000000000000002\n"
     ]
    }
   ],
   "source": [
    "#for question 20\n",
    "import numpy as np\n",
    "import math\n",
    "import sys\n",
    "\n",
    "# add the path of liblinear package\n",
    "LIB_LINEAR_PATH = \"./liblinear-2.42/python\"\n",
    "sys.path.append(LIB_LINEAR_PATH)\n",
    "from liblinearutil import *\n",
    "from sklearn.preprocessing import PolynomialFeatures\n",
    "\n",
    "#main\n",
    "data_in = np.genfromtxt(\"hw4_train.dat.txt\")\n",
    "\n",
    "X = data_in[:, : -1]\n",
    "y = data_in[:, -1]\n",
    "\n",
    "poly = PolynomialFeatures(2)\n",
    "X_poly = poly.fit_transform(X)\n",
    "\n",
    "err_min = 1\n",
    "C = [1/(2*math.pow(10, -4)), 1/(2*math.pow(10, -2)), 1/(2*math.pow(10, 0)), 1/(2*math.pow(10, 2)), 1/(2*math.pow(10, 4))]\n",
    "for i in range(5):\n",
    "    err = 0\n",
    "    for j in range(5):\n",
    "        X_train_1 = X_poly[0:40*j, :]\n",
    "        y_train_1 = y[0:40*j]\n",
    "        X_train_2 = X_poly[40*j+40: , :]\n",
    "        y_train_2 = y[40*j+40:]\n",
    "        X_train = X_train_1 \n",
    "        \n",
    "        X_train = np.insert(X_train_2, 0, values=X_train_1, axis=0)\n",
    "        y_train = np.insert(y_train_2, 0, values=y_train_1, axis=0)\n",
    "        \n",
    "        X_val = X_poly[40*j:40*j+40, :]\n",
    "        y_val = y[40*j:40*j+40]\n",
    "\n",
    "        \n",
    "        model = train(y_train, X_train, '-s 0 -c ' + str(C[i])+ ' -e 0.000001')\n",
    "        p_labs, p_acc, p_vals = predict(y_val, X_val, model, '-q')\n",
    "        err += (1-p_acc[0]/100)\n",
    "    \n",
    "    err /= 5\n",
    "    if(err <= err_min):\n",
    "        err_min = err \n",
    "\n",
    "print(err_min)"
   ]
  },
  {
   "cell_type": "code",
   "execution_count": null,
   "metadata": {},
   "outputs": [],
   "source": []
  },
  {
   "cell_type": "code",
   "execution_count": null,
   "metadata": {},
   "outputs": [],
   "source": []
  }
 ],
 "metadata": {
  "kernelspec": {
   "display_name": "Python 3",
   "language": "python",
   "name": "python3"
  },
  "language_info": {
   "codemirror_mode": {
    "name": "ipython",
    "version": 3
   },
   "file_extension": ".py",
   "mimetype": "text/x-python",
   "name": "python",
   "nbconvert_exporter": "python",
   "pygments_lexer": "ipython3",
   "version": "3.6.10"
  }
 },
 "nbformat": 4,
 "nbformat_minor": 2
}
